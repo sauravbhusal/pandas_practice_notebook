{
 "cells": [
  {
   "cell_type": "code",
   "execution_count": 1,
   "id": "feae6e14",
   "metadata": {},
   "outputs": [],
   "source": [
    "import pandas as pd\n",
    "import numpy as np\n"
   ]
  },
  {
   "cell_type": "code",
   "execution_count": 3,
   "id": "06db91dc",
   "metadata": {},
   "outputs": [
    {
     "data": {
      "text/plain": [
       "0     4\n",
       "1     2\n",
       "2    10\n",
       "3    33\n",
       "4    42\n",
       "dtype: int64"
      ]
     },
     "execution_count": 3,
     "metadata": {},
     "output_type": "execute_result"
    }
   ],
   "source": [
    "my_series = [4, 2, 10, 33, 42]\n",
    "my_var = pd.Series(my_series)\n",
    "my_var\n"
   ]
  },
  {
   "cell_type": "code",
   "execution_count": 4,
   "id": "54ce9df3",
   "metadata": {},
   "outputs": [
    {
     "data": {
      "text/plain": [
       "2"
      ]
     },
     "execution_count": 4,
     "metadata": {},
     "output_type": "execute_result"
    }
   ],
   "source": [
    "my_var[1]"
   ]
  },
  {
   "cell_type": "code",
   "execution_count": 5,
   "id": "e9a87721",
   "metadata": {},
   "outputs": [
    {
     "data": {
      "text/plain": [
       "A     4\n",
       "B     2\n",
       "C    10\n",
       "D    33\n",
       "E    42\n",
       "dtype: int64"
      ]
     },
     "execution_count": 5,
     "metadata": {},
     "output_type": "execute_result"
    }
   ],
   "source": [
    "my_index = [\"A\", \"B\", \"C\", \"D\", \"E\"]\n",
    "my_var2 = pd.Series(my_series, index=my_index)\n",
    "my_var2"
   ]
  },
  {
   "cell_type": "code",
   "execution_count": 8,
   "id": "a017d702",
   "metadata": {},
   "outputs": [
    {
     "data": {
      "text/plain": [
       "33"
      ]
     },
     "execution_count": 8,
     "metadata": {},
     "output_type": "execute_result"
    }
   ],
   "source": [
    "my_var2[\"D\"]"
   ]
  },
  {
   "cell_type": "markdown",
   "id": "d34d5c2f",
   "metadata": {},
   "source": []
  },
  {
   "cell_type": "code",
   "execution_count": 9,
   "id": "a1d96c96",
   "metadata": {},
   "outputs": [
    {
     "data": {
      "text/plain": [
       "33"
      ]
     },
     "execution_count": 9,
     "metadata": {},
     "output_type": "execute_result"
    }
   ],
   "source": [
    "my_var2[3]"
   ]
  },
  {
   "cell_type": "code",
   "execution_count": 10,
   "id": "fa49c918",
   "metadata": {},
   "outputs": [],
   "source": [
    "#key value Dictionary"
   ]
  },
  {
   "cell_type": "code",
   "execution_count": 11,
   "id": "6b127cb0",
   "metadata": {},
   "outputs": [
    {
     "data": {
      "text/plain": [
       "Ducati      13\n",
       "Kawasaki     9\n",
       "BMW         25\n",
       "KTM         55\n",
       "dtype: int64"
      ]
     },
     "execution_count": 11,
     "metadata": {},
     "output_type": "execute_result"
    }
   ],
   "source": [
    "bikes = {\"Ducati\":13, \"Kawasaki\":9, \"BMW\":25, \"KTM\":55}\n",
    "my_var3 = pd.Series(bikes)\n",
    "my_var3"
   ]
  },
  {
   "cell_type": "code",
   "execution_count": 12,
   "id": "db03af77",
   "metadata": {},
   "outputs": [
    {
     "data": {
      "text/plain": [
       "9"
      ]
     },
     "execution_count": 12,
     "metadata": {},
     "output_type": "execute_result"
    }
   ],
   "source": [
    "my_var3[\"Kawasaki\"]"
   ]
  },
  {
   "cell_type": "code",
   "execution_count": null,
   "id": "2cac823e",
   "metadata": {},
   "outputs": [],
   "source": []
  }
 ],
 "metadata": {
  "kernelspec": {
   "display_name": "Python 3 (ipykernel)",
   "language": "python",
   "name": "python3"
  },
  "language_info": {
   "codemirror_mode": {
    "name": "ipython",
    "version": 3
   },
   "file_extension": ".py",
   "mimetype": "text/x-python",
   "name": "python",
   "nbconvert_exporter": "python",
   "pygments_lexer": "ipython3",
   "version": "3.10.6"
  }
 },
 "nbformat": 4,
 "nbformat_minor": 5
}
